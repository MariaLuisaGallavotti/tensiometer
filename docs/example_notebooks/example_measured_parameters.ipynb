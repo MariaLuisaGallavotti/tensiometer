{
 "cells": [
  {
   "cell_type": "markdown",
   "metadata": {},
   "source": [
    "# What is an experiment measuring?\n",
    "Marco Raveri (marco.raveri@unige.it) "
   ]
  },
  {
   "cell_type": "markdown",
   "metadata": {},
   "source": [
    "In this notebook we show a worked example of how to go from the posterior of a given experiment to understanding the physics that controls its best constrained properties.\n",
    "\n",
    "If you are interested in the details of this treatment we refer you to [Dacunha, Raveri, Park, Doux, Jain (2021), arXiv:2112.05737](https://arxiv.org/abs/2112.05737).\n",
    "\n",
    "We work with the results of the Dark Energy Survey (DES) first year of data (https://arxiv.org/abs/1708.01530).\n",
    "Specifically we consider the full weak lensing and galaxy clustering (3x2) analysis."
   ]
  },
  {
   "cell_type": "code",
   "execution_count": null,
   "metadata": {},
   "outputs": [],
   "source": [
    "# Show plots inline, and load main getdist plot module and samples class\n",
    "%matplotlib inline\n",
    "%config InlineBackend.figure_format = 'retina'\n",
    "%load_ext autoreload\n",
    "%autoreload 1\n",
    "\n",
    "# import libraries:\n",
    "import sys, os\n",
    "os.environ['TF_USE_LEGACY_KERAS'] = '1'  # needed for tensorflow KERAS compatibility\n",
    "os.environ['DISPLAY'] = 'inline'  # hack to get getdist working\n",
    "sys.path.insert(0,os.path.realpath(os.path.join(os.getcwd(),'../..')))\n",
    "from getdist import plots, MCSamples\n",
    "from getdist.gaussian_mixtures import GaussianND\n",
    "import getdist\n",
    "getdist.chains.print_load_details = False\n",
    "import scipy\n",
    "import matplotlib.pyplot as plt\n",
    "import IPython\n",
    "from IPython.display import Markdown\n",
    "import numpy as np\n",
    "import seaborn as sns\n",
    "# import the tensiometer tools that we need:\n",
    "from tensiometer.utilities import stats_utilities as utilities\n",
    "from tensiometer import gaussian_tension"
   ]
  },
  {
   "cell_type": "markdown",
   "metadata": {},
   "source": [
    "We now import the chains with the parameter posteriors.\n",
    "\n",
    "Notice that we have removed many parameters from the chains since they were irrelevant to the example.\n",
    "The chains are already fully polished. Burn in has been removed and the samples have been thinned (to save space on github).\n",
    "\n",
    "We have run a prior only chain to ensure that the modeling of the prior is as faithful as possible.\n",
    "In particular, in standard cosmological analyses, we have priors on derived parameters that would give non-trivial shapes to the parameters that are being sampled (see for example Appendix F in https://arxiv.org/abs/1806.04649)"
   ]
  },
  {
   "cell_type": "code",
   "execution_count": null,
   "metadata": {},
   "outputs": [],
   "source": [
    "# load the chains (remove no burn in since the example chains have already been cleaned):\n",
    "chains_dir = os.path.realpath(os.path.join(os.getcwd(), '../..', 'test_chains'))\n",
    "# the DES Y1 3x2 chain:\n",
    "settings = {'ignore_rows':0, 'smooth_scale_1D':0.3, 'smooth_scale_2D':0.3}\n",
    "chain = getdist.mcsamples.loadMCSamples(file_root=os.path.join(chains_dir, 'DES'), no_cache=True, settings=settings)\n",
    "# the prior chain:\n",
    "prior_chain = getdist.mcsamples.loadMCSamples(file_root=os.path.join(chains_dir, 'prior'), no_cache=True, settings=settings)\n",
    "\n",
    "# we add a couple of derived parameters that have been removed from the chains (to save a little space on github):\n",
    "for ch in [chain, prior_chain]:\n",
    "    p = ch.getParams()\n",
    "    ch.addDerived(p.omegach2/(p.H0/100.)**2, name='omegac', label='\\\\Omega_c')\n",
    "    ch.addDerived(p.omegabh2/(p.H0/100.)**2, name='omegab', label='\\\\Omega_b')\n",
    "    ch.addDerived(p.sigma8*np.sqrt(p.omegam/0.3), name='S8', label='S_8')"
   ]
  },
  {
   "cell_type": "markdown",
   "metadata": {},
   "source": [
    "Now we look at the parameters that were used to run the chain and we plot them against the prior:"
   ]
  },
  {
   "cell_type": "code",
   "execution_count": null,
   "metadata": {},
   "outputs": [],
   "source": [
    "param_names = chain.getParamNames().getRunningNames()\n",
    "g = plots.get_subplot_plotter()\n",
    "g.triangle_plot([prior_chain, chain], params=param_names, filled=True)"
   ]
  },
  {
   "cell_type": "markdown",
   "metadata": {},
   "source": [
    "This plot is not particularly illuminating. We might guess that 4 parameteres are constrained but it is hard to be sure about the number because of degeneracies.\n",
    "\n",
    "## How many parameters are constrained?\n",
    "\n",
    "To quantify how many parameters DES is measuring over the prior we compute the number of constrained parameters, as discussed in (https://arxiv.org/pdf/1806.04649.pdf).\n",
    "\n",
    "The posterior covariance, $C_p$, combines the prior, $C_\\Pi$, and data, $C$, covariances as:\n",
    "\\begin{align}\n",
    "C_p^{-1} = C_\\Pi^{-1} + C^{-1}\n",
    "\\end{align}\n",
    "A parameter is measured when the posterior is closest to the purely data covariance $C^{-1}C_p \\sim I$ (i.e. the prior is irrelevant). \n",
    "\n",
    "With a little algebra the number of parameters that are constrained by the data over the prior is then:\n",
    "\\begin{align}\n",
    "N_{\\rm eff} \\equiv N -{\\rm Tr}(C_\\Pi^{-1} C_p)\n",
    "\\end{align}\n",
    "where $N$ is the nominal number of parameters.\n",
    "\n",
    "This tells us how many parameters the data set is measuring. Notice that one important property is that this quantity is reparametrization invariant so it does not really depend on the specific parameters that we are using."
   ]
  },
  {
   "cell_type": "code",
   "execution_count": null,
   "metadata": {},
   "outputs": [],
   "source": [
    "gaussian_tension.get_Neff(chain, param_names=param_names, prior_chain=prior_chain)"
   ]
  },
  {
   "cell_type": "markdown",
   "metadata": {},
   "source": [
    "This tells us that DES is measuging three cosmological parameters that we now try to nail down.\n",
    "\n",
    "Since the number of constrained parameters is reparametrization invariant we first use some of our physical intuition to change to a more suitable parameter basis and neglect $\\tau$."
   ]
  },
  {
   "cell_type": "code",
   "execution_count": null,
   "metadata": {},
   "outputs": [],
   "source": [
    "param_names = ['omegam', 'omegab', 'sigma8', 'ns', 'H0']"
   ]
  },
  {
   "cell_type": "markdown",
   "metadata": {},
   "source": [
    "We can plot these parameters:"
   ]
  },
  {
   "cell_type": "code",
   "execution_count": null,
   "metadata": {},
   "outputs": [],
   "source": [
    "param_limits = {'omegam':[0.,.5], 'omegab':[0.,.5]}\n",
    "g = plots.get_subplot_plotter()\n",
    "g.triangle_plot([prior_chain,chain], params=param_names, filled=True, param_limits=param_limits)"
   ]
  },
  {
   "cell_type": "markdown",
   "metadata": {},
   "source": [
    "This gives us a picture that is closer to our expectation of three+ constrained parameters and we can verify that by recomputing the number of constrained parameters in this parameter basis:"
   ]
  },
  {
   "cell_type": "code",
   "execution_count": null,
   "metadata": {},
   "outputs": [],
   "source": [
    "gaussian_tension.get_Neff(chain, param_names=param_names, prior_chain=prior_chain)"
   ]
  },
  {
   "cell_type": "markdown",
   "metadata": {},
   "source": [
    "As we can see we have all the parameters that we need. \n",
    "This number is sliglthy larger than the previous result because of clear non-Gaussianities.\n",
    "\n",
    "## Constrained parameters combinations:\n",
    "\n",
    "The parameters that we have here are degenerate and we want to disentangle them to better understand their physical meaning.\n",
    "\n",
    "Since our measurements are mostly multiplicative when building the power spectra we consider the logarithm of these parameters to perform a power law decomposition:"
   ]
  },
  {
   "cell_type": "code",
   "execution_count": null,
   "metadata": {},
   "outputs": [],
   "source": [
    "for ch in [chain, prior_chain]:\n",
    "    p = ch.getParams()\n",
    "    ch.addDerived(np.log(p.omegam), name='log_omegam', label='\\\\log \\\\Omega_m')\n",
    "    ch.addDerived(np.log(p.omegab), name='log_omegab', label='\\\\log \\\\Omega_b')\n",
    "    ch.addDerived(np.log(p.sigma8), name='log_sigma8', label='\\\\log \\\\sigma_8')\n",
    "    ch.addDerived(np.log(p.ns), name='log_ns', label='\\\\log n_s')\n",
    "    ch.addDerived(np.log(p.H0), name='log_H0', label='\\\\log H_0')"
   ]
  },
  {
   "cell_type": "markdown",
   "metadata": {},
   "source": [
    "We now want to compute the parameter space combinations for which the posterior is an improvement of the prior, i.e. $F_p - F_\\Pi > 0$ in terms of empirical Fisher matrices $F\\equiv C^{-1}$.\n",
    "\n",
    "To do this we compute the KL decomposition of the posterior covariance with respect to the prior covariance, as discussed in (https://arxiv.org/pdf/2112.05737.pdf)."
   ]
  },
  {
   "cell_type": "code",
   "execution_count": null,
   "metadata": {},
   "outputs": [],
   "source": [
    "# do the KL decomposition on the log parameters:\n",
    "KL_param_names = ['log_'+name for name in param_names]\n",
    "# compute the KL modes:\n",
    "KL_eig, KL_eigv, KL_param_names = gaussian_tension.Q_UDM_KL_components(prior_chain, chain, param_names=KL_param_names)\n",
    "# print:\n",
    "with np.printoptions(precision=2, suppress=True):\n",
    "    print('Improvement factor over the prior:', KL_eig)\n",
    "    print('Improvement in error units:', np.sqrt(KL_eig-1))"
   ]
  },
  {
   "cell_type": "markdown",
   "metadata": {},
   "source": [
    "As we can see we have three parameters whose error bar is improved over the prior by more than a factor of two. \n",
    "Other modes show an improvement in errorbar that is smaller than 50%.\n",
    "\n",
    "We now want to plot the projection of these modes over parameters to see what parameter is contributing the most (in units of its variance).\n",
    "To do so we decompose the parameter Fisher matrix over KL components. In the following figure rows sum to one and tell us how much a given KL mode contributes to the error bar (not marginalized) of the given parameter."
   ]
  },
  {
   "cell_type": "code",
   "execution_count": null,
   "metadata": {},
   "outputs": [],
   "source": [
    "# First we compute the fractional Fisher matrix:\n",
    "KL_param_names, KL_eig, fractional_fisher, _ = gaussian_tension.Q_UDM_fisher_components(prior_chain, chain, KL_param_names, which='1')\n",
    "# plot (showing values and names):\n",
    "im1 = plt.imshow( fractional_fisher, cmap='viridis')\n",
    "num_params = len(fractional_fisher)\n",
    "for i in range(num_params):\n",
    "    for j in range(num_params):\n",
    "        if fractional_fisher[j,i]>0.5:\n",
    "            col = 'k'\n",
    "        else:\n",
    "            col = 'w'\n",
    "        plt.text(i, j, np.round(fractional_fisher[j,i],2), va='center', ha='center', color=col)\n",
    "plt.xlabel('KL mode (error improvement)');\n",
    "plt.ylabel('Parameters');\n",
    "ticks  = np.arange(num_params)\n",
    "labels = [ str(t+1)+'\\n ('+str(l)+')' for t,l in zip(ticks,np.round(np.sqrt(KL_eig-1.),2))]\n",
    "plt.xticks(ticks, labels, horizontalalignment='center');\n",
    "labels = [ '$'+chain.getParamNames().parWithName(name).label+'$' for name in KL_param_names ]\n",
    "plt.yticks(ticks, labels, horizontalalignment='right');"
   ]
  },
  {
   "cell_type": "markdown",
   "metadata": {},
   "source": [
    "As we can see the first two, best constrained, modes almost entirely inform $\\Omega_m$ and $\\sigma_8$.\n",
    "The third mode is almost entirely projecting on $\\Omega_b$.\n",
    "The last two weak modes are projecting on $n_s$ and $H_0$.\n",
    "\n",
    "We can now visualize the modes in parameter space:"
   ]
  },
  {
   "cell_type": "code",
   "execution_count": null,
   "metadata": {},
   "outputs": [],
   "source": [
    "# compute the parameter space combinations corresponding to KL modes:\n",
    "param_directions = np.linalg.inv(KL_eigv.T)\n",
    "g = plots.get_subplot_plotter()\n",
    "g.triangle_plot([chain], params=param_names, filled=True)\n",
    "# add the modes:\n",
    "for i in range(len(param_names)-1):\n",
    "    for j in range(i+1,len(param_names)):\n",
    "        ax = g.subplots[j,i]\n",
    "        # get mean:\n",
    "        m1, m2 = chain.getMeans(pars=[chain.index[name]\n",
    "                       for name in [KL_param_names[i], KL_param_names[j]]])\n",
    "        ax.scatter(np.exp(m1), np.exp(m2), color='k')\n",
    "        alpha = 3.*np.linspace(-1.,1.,100)\n",
    "        for k in range(3):\n",
    "            ax.plot(np.exp(m1+alpha*param_directions[:,k][i]), np.exp(m2+alpha*param_directions[:,k][j]), color=sns.hls_palette(6)[k], label='Mode '+str(k+1))\n",
    "g.fig.legend(*ax.get_legend_handles_labels());    "
   ]
  },
  {
   "cell_type": "markdown",
   "metadata": {},
   "source": [
    "We can project the posterior on the KL modes. In this space the posterior parameters are going to be uncorrelated and with unit variance."
   ]
  },
  {
   "cell_type": "code",
   "execution_count": null,
   "metadata": {},
   "outputs": [],
   "source": [
    "idx = [chain.index[name] for name in KL_param_names]\n",
    "prior_mean = prior_chain.getMeans(pars=[prior_chain.index[name] for name in KL_param_names])\n",
    "temp_names = ['mode'+str(i+1) for i in range(len(KL_param_names))]\n",
    "KL_filtered_samples = np.dot(chain.samples[:,idx]-prior_mean, KL_eigv)\n",
    "KL_chain = MCSamples(samples=KL_filtered_samples, \n",
    "                     loglikes=chain.loglikes, \n",
    "                     weights=chain.weights, \n",
    "                     names=temp_names, \n",
    "                     label='KL modes DES')\n",
    "idx = [prior_chain.index[name] for name in KL_param_names]\n",
    "KL_filtered_prior_samples = np.dot(prior_chain.samples[:,idx]-prior_mean, KL_eigv)\n",
    "KL_prior_chain = MCSamples(samples=KL_filtered_prior_samples, \n",
    "                     loglikes=prior_chain.loglikes, \n",
    "                     weights=prior_chain.weights, \n",
    "                     names=temp_names, \n",
    "                     label='KL modes prior')\n",
    "g = plots.get_subplot_plotter()\n",
    "g.triangle_plot([KL_chain,KL_prior_chain], params=temp_names, filled=True)"
   ]
  },
  {
   "cell_type": "markdown",
   "metadata": {},
   "source": [
    "Note that the first few modes are well constrained and their posterior is fairly Gaussian, as data constraint over prior degrades non-Gaussianities arise.\n",
    "\n",
    "Since we are considering the logarithm of parameters our KL decomposition corresponds to a power law decomposition.\n",
    "We now reconstruct the representation of the best constrained mode in the original parameter space. \n",
    "\n",
    "All this analysis in packaged in a series of utility functions:"
   ]
  },
  {
   "cell_type": "code",
   "execution_count": null,
   "metadata": {},
   "outputs": [],
   "source": [
    "CPCA_results = gaussian_tension.linear_CPCA_chains(prior_chain, chain, KL_param_names)\n",
    "print(gaussian_tension.print_CPCA_results(CPCA_results))"
   ]
  },
  {
   "cell_type": "markdown",
   "metadata": {},
   "source": [
    "The Covariant Principal Components tells us a reasonable approximation for the best constrained parameter modes.\n",
    "\n",
    "This parameter basis should single out the most constrained parameter space directions over the priors and as such should be less sensitive to volume effects in $\\Lambda$CDM."
   ]
  },
  {
   "cell_type": "code",
   "execution_count": null,
   "metadata": {},
   "outputs": [],
   "source": [
    "temp_chain = chain.copy()\n",
    "p = temp_chain.getParams()\n",
    "temp_chain.addDerived(p.sigma8*p.omegam**0.75, name='p1', label='p_1 = \\\\sigma_8 \\\\Omega_m^{0.75}');\n",
    "temp_chain.addDerived(p.omegam/p.sigma8, name='p2', label='p_2 = \\\\Omega_m / \\\\sigma_8');\n",
    "temp_chain.addDerived(p.omegab/(p.H0/100)**2, name='p3', label='p_3 = \\\\Omega_b / h^2');\n",
    "g = plots.get_subplot_plotter()\n",
    "g.triangle_plot([temp_chain], params=['p1', 'p2', 'p3'], filled=True)"
   ]
  },
  {
   "cell_type": "markdown",
   "metadata": {},
   "source": [
    "We can note a couple of interesting things from this plot.\n",
    "These are the modes that are significantly improved over the prior but these are not necessarily detected to be different from zero. Especially the second and third modes are not detected to super-high statistical significance (as mode 1) and hence are closer to log-normal distributed. We have also truncated the decomposition to have better looking parameters and that is responsible for some of their correlation."
   ]
  },
  {
   "cell_type": "markdown",
   "metadata": {},
   "source": [
    "## Physics of constrained parameters combinations:\n",
    "\n",
    "We next ask what is the physical meaning of these parameters. To do so we perform variations along the KL components and look at the matter power spectrum and other physical observables:"
   ]
  },
  {
   "cell_type": "code",
   "execution_count": null,
   "metadata": {},
   "outputs": [],
   "source": [
    "# first import camb\n",
    "import camb\n",
    "from camb import model\n",
    "from camb.sources import GaussianSourceWindow\n",
    "# then define helper to go from chains to camb parameters:\n",
    "def camb_helper(params):\n",
    "    # parameters that we use:\n",
    "    omegam, omegab, sigma8, ns, H0 = params\n",
    "    # parse:\n",
    "    h = H0/100.\n",
    "    reference_As = 2.60005144e-09\n",
    "    kwargs = {'ns': ns,\n",
    "              'H0': H0,\n",
    "              'ombh2': omegab*h**2,\n",
    "              'omch2': (omegam-omegab)*h**2,\n",
    "              'mnu': 0.06,\n",
    "              'tau': 0.079,\n",
    "              'redshifts': [0.],\n",
    "              'kmax': 10.0,\n",
    "              'lmax': 2000,\n",
    "              'lens_potential_accuracy': 1}\n",
    "    # run CAMB once to get reference sigma 8:\n",
    "    pars = camb.set_params(As = reference_As, **kwargs)\n",
    "    results = camb.get_results(pars)\n",
    "    reference_sigma_8 = results.get_sigma8_0()\n",
    "    # get the reference parameters:\n",
    "    correct_As = reference_As/reference_sigma_8**2*sigma8**2\n",
    "    pars = camb.set_params(As = correct_As, **kwargs)\n",
    "    # other settings:\n",
    "    #pars.NonLinear = model.NonLinear_none\n",
    "    pars.NonLinear = model.NonLinear_both\n",
    "    #\n",
    "    return pars"
   ]
  },
  {
   "cell_type": "code",
   "execution_count": null,
   "metadata": {},
   "outputs": [],
   "source": [
    "# compute mean cosmology:\n",
    "mean_params = chain.getMeans(pars=[chain.index[name] for name in KL_param_names])\n",
    "mean_camb_pars = camb_helper(np.exp(mean_params))\n",
    "mean_results = camb.get_results(mean_camb_pars)\n",
    "kh, z, pk_ref = mean_results.get_matter_power_spectrum(minkh=1e-4, maxkh=10., npoints = 1000)\n",
    "# now do parameter variations along the KL modes of the posterior with respect to the prior:\n",
    "for ind in range(3):\n",
    "    # do a 2 sigma variation to see effects in the plots:\n",
    "    camb_pars_plus = camb_helper(np.exp(mean_params +1.*param_directions[:,ind]))\n",
    "    camb_pars_minus = camb_helper(np.exp(mean_params -1.*param_directions[:,ind]))\n",
    "    # compute camb power spectra:\n",
    "    results_plus = camb.get_results(camb_pars_plus)\n",
    "    results_minus = camb.get_results(camb_pars_minus)\n",
    "    _, _, pk_plus = results_plus.get_matter_power_spectrum(minkh=1e-4, maxkh=10., npoints = 1000)\n",
    "    _, _, pk_minus = results_minus.get_matter_power_spectrum(minkh=1e-4, maxkh=10., npoints = 1000)\n",
    "    # plot:\n",
    "    fig, ax = plt.subplots(1,2, figsize = (12,4))\n",
    "    fig.suptitle('Mode '+str(ind+1)+', improvement over prior '+str(round(np.sqrt(KL_eig[ind]-1),1)))\n",
    "    ax[0].plot(kh, pk_ref[0], color='k')\n",
    "    ax[0].plot(kh, pk_plus[0], color=sns.hls_palette(6)[0])\n",
    "    ax[0].plot(kh, pk_minus[0], color=sns.hls_palette(6)[2])\n",
    "    ax[0].set_yscale('log')\n",
    "    ax[0].set_ylabel('$P(k)$')\n",
    "    ax[1].plot(kh, (pk_plus[0]-pk_ref[0])/pk_ref[0], color=sns.hls_palette(6)[0])\n",
    "    ax[1].plot(kh, (pk_minus[0]-pk_ref[0])/pk_ref[0], color=sns.hls_palette(6)[2])\n",
    "    ax[1].axhline(0., ls='--', color='k')\n",
    "    ax[1].set_ylabel('$\\\\Delta P(k)/ P(k)$')\n",
    "    for _ax in ax:\n",
    "        _ax.set_xlabel('$k/h Mpc$')\n",
    "        _ax.set_xscale('log')\n",
    "        _ax.set_xlim([np.amin(kh), np.amax(kh)])"
   ]
  },
  {
   "cell_type": "markdown",
   "metadata": {},
   "source": [
    "# Prior removal:\n",
    "\n",
    "We know parameters have projection effects due to prior constrained volume being marginalized over.\n",
    "Here we (linearly) undo that to get rid of prior effects.\n",
    "\n",
    "There are two ways of getting rid of the prior. The first one is fix totally prior constrained directions.\n",
    "This results in the best-fitting subspaces described in (https://arxiv.org/pdf/1902.01366.pdf).\n",
    "\n",
    "To do so we take each sample, remove the prior mean, transform it to KL space, then go back to parameter space truncating modes, leaving out the least constrained ones and the add back the prior mean."
   ]
  },
  {
   "cell_type": "code",
   "execution_count": null,
   "metadata": {},
   "outputs": [],
   "source": [
    "idx = [chain.index[name] for name in KL_param_names]\n",
    "prior_mean = prior_chain.getMeans(pars=[prior_chain.index[name] for name in KL_param_names])\n",
    "inv_KL_eigv = np.linalg.inv(KL_eigv)\n",
    "inv_KL_eigv[3:,:]=0\n",
    "KL_filtered_samples = np.dot(np.dot(chain.samples[:,idx]-prior_mean, KL_eigv), inv_KL_eigv)+prior_mean\n",
    "KL_filtered_samples = np.exp(KL_filtered_samples)"
   ]
  },
  {
   "cell_type": "code",
   "execution_count": null,
   "metadata": {},
   "outputs": [],
   "source": [
    "KL_chain = MCSamples(samples=KL_filtered_samples, \n",
    "                     loglikes=chain.loglikes, \n",
    "                     weights=chain.weights, \n",
    "                     names=param_names, \n",
    "                     labels=[ name.label for name in chain.getParamNames().parsWithNames(param_names)], \n",
    "                     label='KL filtered DES',\n",
    "                     settings=settings)\n",
    "g = plots.get_subplot_plotter()\n",
    "g.triangle_plot([chain, KL_chain], params=param_names, filled=True)\n",
    "bestfit_chain = [par.bestfit_sample for par in chain.getMargeStats().parsWithNames(param_names)]\n",
    "bestfit_chain_kl = [par.bestfit_sample for par in KL_chain.getMargeStats().parsWithNames(param_names)]\n",
    "for i in range(len(param_names)):\n",
    "    _ax = g.subplots[i,i]\n",
    "    _ax.axvline(bestfit_chain[i], ls='--', lw=1., color='red')\n",
    "    _ax.axvline(bestfit_chain_kl[i], ls='--', lw=1., color='blue')\n",
    "for i in range(len(param_names)):\n",
    "    for j in range(len(param_names)):\n",
    "        if i>j:\n",
    "            _ax = g.subplots[i,j]\n",
    "            _ax.axhline(bestfit_chain[i], ls='--', lw=1., color='red')\n",
    "            _ax.axhline(bestfit_chain_kl[i], ls='--', lw=1., color='blue')\n",
    "            _ax.axvline(bestfit_chain[j], ls='--', lw=1., color='red')\n",
    "            _ax.axvline(bestfit_chain_kl[j], ls='--', lw=1., color='blue')"
   ]
  },
  {
   "cell_type": "markdown",
   "metadata": {},
   "source": [
    "As we can see constraints are tighter since we have fixed prior constrained directions.\n",
    "\n",
    "The best fit is closer to the peak since the postrior looks increasingly Gaussian as we remove parameters.\n",
    "\n",
    "Some contours do not change, which is good, some others do because they were influenced by the prior.\n",
    "\n",
    "This is a-posteriori dimensional reduction, the difference with a-priori dimensional reduction is that this happens around the mean of the posterior and not the prior. Non linearities between the two points (rotations) can alter the local structure of the posterior. Hence a-priori dimensional reduction can introduce biases while doing that a-posteriori does not.\n",
    "\n",
    "The second way of getting rid of the prior is to send it to infinity. This is far more challenging because it is more subject to non-Gaussianities. To mitigate this we do not undo the prior on data constrained directions but only on prior constrained ones."
   ]
  },
  {
   "cell_type": "code",
   "execution_count": null,
   "metadata": {},
   "outputs": [],
   "source": [
    "idx = [chain.index[name] for name in KL_param_names]\n",
    "prior_mean = prior_chain.getMeans(pars=[prior_chain.index[name] for name in KL_param_names])\n",
    "inv_KL_eigv = np.linalg.inv(KL_eigv)\n",
    "KL_eig_inv = 1./KL_eig\n",
    "KL_eig_inv[:3] = 0\n",
    "KL_filtered_samples = np.dot(np.dot(np.diag(1./(1.-KL_eig_inv)), np.dot(KL_eigv.T, (chain.samples[:,idx]).T)).T-np.dot(np.diag(1./(1.-KL_eig_inv)*KL_eig_inv), np.dot(KL_eigv.T, prior_mean)), inv_KL_eigv)\n",
    "KL_filtered_samples = np.exp(KL_filtered_samples)"
   ]
  },
  {
   "cell_type": "code",
   "execution_count": null,
   "metadata": {},
   "outputs": [],
   "source": [
    "KL_chain = MCSamples(samples=KL_filtered_samples, \n",
    "                     loglikes=chain.loglikes, \n",
    "                     weights=chain.weights, \n",
    "                     names=param_names, \n",
    "                     labels=[ name.label for name in chain.getParamNames().parsWithNames(param_names)], \n",
    "                     label='KL filtered DES',\n",
    "                     settings=settings)\n",
    "g = plots.get_subplot_plotter()\n",
    "param_limits = {'omegam':[0.,.5], 'omegab':[0.,.5]}\n",
    "g.triangle_plot([KL_chain, chain], params=param_names, filled=True, param_limits=param_limits)\n",
    "bestfit_chain = [par.bestfit_sample for par in chain.getMargeStats().parsWithNames(param_names)]\n",
    "bestfit_chain_kl = [par.bestfit_sample for par in KL_chain.getMargeStats().parsWithNames(param_names)]\n",
    "for i in range(len(param_names)):\n",
    "    _ax = g.subplots[i,i]\n",
    "    _ax.axvline(bestfit_chain[i], ls='--', lw=1., color='blue')\n",
    "    _ax.axvline(bestfit_chain_kl[i], ls='--', lw=1., color='red')\n",
    "for i in range(len(param_names)):\n",
    "    for j in range(len(param_names)):\n",
    "        if i>j:\n",
    "            _ax = g.subplots[i,j]\n",
    "            _ax.axhline(bestfit_chain[i], ls='--', lw=1., color='blue')\n",
    "            _ax.axhline(bestfit_chain_kl[i], ls='--', lw=1., color='red')\n",
    "            _ax.axvline(bestfit_chain[j], ls='--', lw=1., color='blue')\n",
    "            _ax.axvline(bestfit_chain_kl[j], ls='--', lw=1., color='red')"
   ]
  }
 ],
 "metadata": {
  "kernelspec": {
   "display_name": "tensiometer",
   "language": "python",
   "name": "python3"
  },
  "language_info": {
   "codemirror_mode": {
    "name": "ipython",
    "version": 3
   },
   "file_extension": ".py",
   "mimetype": "text/x-python",
   "name": "python",
   "nbconvert_exporter": "python",
   "pygments_lexer": "ipython3",
   "version": "3.9.18"
  }
 },
 "nbformat": 4,
 "nbformat_minor": 4
}
