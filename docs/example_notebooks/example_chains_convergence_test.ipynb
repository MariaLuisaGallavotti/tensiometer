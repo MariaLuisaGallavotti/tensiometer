{
 "cells": [
  {
   "cell_type": "markdown",
   "metadata": {},
   "source": [
    "# Testing the quality of the posterior: seize the moment \n",
    "Marco Raveri (marco.raveri@unige.it) "
   ]
  },
  {
   "cell_type": "markdown",
   "metadata": {},
   "source": [
    "In this notebook we show how to perform moment based tests for the quality of the posterior estimate from different MCMC chains.\n",
    "\n",
    "We perform these tests considering several different chains obtained with the same sampling scheme but what we discuss can be readily applied to pools of chains from different sources or to two chains obtained with different sampling settings.\n",
    "\n",
    "### Table of contents\n",
    "1. [The short story](#short): fast summary\n",
    "2. [The long story](#long): detailed explanation"
   ]
  },
  {
   "cell_type": "code",
   "execution_count": null,
   "metadata": {},
   "outputs": [],
   "source": [
    "# we start by importing several libraries:\n",
    "import sys, os\n",
    "os.environ['TF_USE_LEGACY_KERAS'] = '1'  # needed for tensorflow KERAS compatibility\n",
    "os.environ['DISPLAY'] = 'inline'  # hack to get getdist working\n",
    "sys.path.insert(0,os.path.realpath(os.path.join(os.getcwd(),'../..')))\n",
    "from getdist import plots, MCSamples\n",
    "from getdist.gaussian_mixtures import GaussianND\n",
    "import getdist\n",
    "getdist.chains.print_load_details = False\n",
    "import scipy\n",
    "import matplotlib.pyplot as plt\n",
    "import numpy as np\n",
    "# import the tensiometer tools that we need:\n",
    "from tensiometer.utilities import stats_utilities as utilities\n",
    "from tensiometer import chains_convergence"
   ]
  },
  {
   "cell_type": "markdown",
   "metadata": {},
   "source": [
    "We now import the chain with the parameter posteriors.\n",
    "\n",
    "Notice that we have removed many parameters from the chains since they were irrelevant to the example.\n",
    "The chains are already fully polished. Burn in has been removed and the samples have been thinned (to save space on github)."
   ]
  },
  {
   "cell_type": "code",
   "execution_count": null,
   "metadata": {},
   "outputs": [],
   "source": [
    "# load the chains (remove no burn in since the example chains have already been cleaned):\n",
    "chains_dir = os.path.realpath(os.path.join(os.getcwd(), '../..', 'test_chains'))\n",
    "# the DES Y1 3x2 chain:\n",
    "chain = getdist.mcsamples.loadMCSamples(file_root=os.path.join(chains_dir, 'DES'), no_cache=True)"
   ]
  },
  {
   "cell_type": "markdown",
   "metadata": {},
   "source": [
    "## The short story <a name=\"short\"></a>\n",
    "\n",
    "We start with a pool of chains. For definitness we assume that we have two. The way in which we have obtained them does not truly matter. \n",
    "The only thing that matters is that they should be from the same distribution."
   ]
  },
  {
   "cell_type": "code",
   "execution_count": null,
   "metadata": {},
   "outputs": [],
   "source": [
    "chains = utilities.get_separate_mcsamples(chain)[:2]"
   ]
  },
  {
   "cell_type": "markdown",
   "metadata": {},
   "source": [
    "The full dimensional Gelman Rubin test is given by:"
   ]
  },
  {
   "cell_type": "code",
   "execution_count": null,
   "metadata": {},
   "outputs": [],
   "source": [
    "GR_val, GR_par = chains_convergence.GR_test(chains)\n",
    "print(GR_val)"
   ]
  },
  {
   "cell_type": "markdown",
   "metadata": {},
   "source": [
    "that tells us that the mean of the distribution is known to 2% of the variance.\n",
    "\n",
    "The same type of test applied to the second order moments:"
   ]
  },
  {
   "cell_type": "code",
   "execution_count": null,
   "metadata": {},
   "outputs": [],
   "source": [
    "GR2_val, GR2_par = chains_convergence.GRn_test(chains, n=2)\n",
    "print(GR2_val)"
   ]
  },
  {
   "cell_type": "markdown",
   "metadata": {},
   "source": [
    "tells us that we know the covariance to below 1%, in units of the covariance of the covariance.\n",
    "Notice that these tests are random in nature and not sufficient (but rather only necessary) so we should always look at the worse number that we obtain as a global indication for the quality of the posterior. \n",
    "\n",
    "It is possible to go higher with moments order to test the skewness but it all becomes computationally more expensive as the order raises."
   ]
  },
  {
   "cell_type": "markdown",
   "metadata": {},
   "source": [
    "Since these tests are multidimensional they report the parameter combination that is affected by sampling errors.\n",
    "The mode can be visualized to understand what are the parameters that are most influenced by these errors."
   ]
  },
  {
   "cell_type": "code",
   "execution_count": null,
   "metadata": {},
   "outputs": [],
   "source": [
    "running_names = chain.getParamNames().getRunningNames()\n",
    "plt.plot(GR_par**2, label='mean')\n",
    "plt.plot(GR2_par**2, label='covariance')\n",
    "plt.xticks(np.arange(len(running_names)), [ '$'+nam.label+'$' for nam in chain.getParamNames().parsWithNames(running_names)], rotation=45)\n",
    "plt.axhline(0.0, ls='--', lw=1., color='k')\n",
    "plt.legend();"
   ]
  },
  {
   "cell_type": "markdown",
   "metadata": {},
   "source": [
    "Which tells us the parameters that the chains most disagree on."
   ]
  },
  {
   "cell_type": "markdown",
   "metadata": {},
   "source": [
    "## The long story: <a name=\"long\"></a>"
   ]
  },
  {
   "cell_type": "markdown",
   "metadata": {},
   "source": [
    "It is impossible (to my knowledge) to prove that two set of samples come from the same distribution. \n",
    "What we can do is bound the variations that we accept between the chains.\n",
    "In particular we start by showing that a pdf can be fully determined by the sets of its moments:\n",
    "\\begin{align}\n",
    "\\mu^{(k)}(\\theta_0) = E[(\\theta-\\theta_0)^k]\n",
    "\\end{align}\n",
    "at all given orders $k$.\n",
    "We next show how this work in practice using (https://github.com/saadgroup/pymaxent/). We take the 1D pdf of a couple of parameters, compute the moments of the distribution from the samples and then reconstruct the pdf from the moments."
   ]
  },
  {
   "cell_type": "code",
   "execution_count": null,
   "metadata": {},
   "outputs": [],
   "source": [
    "# library for moments decomposition:\n",
    "import pymaxent\n",
    "# parameter that we are interested in:\n",
    "params = ['omegam', 'sigma8', 'tau']\n",
    "fig, ax = plt.subplots(1,len(params), figsize = (16,4))\n",
    "for ind, name in enumerate(params):\n",
    "    # get index:\n",
    "    par_ind = chain.index[name]\n",
    "    # get the posterior:\n",
    "    posterior = chain.get1DDensityGridData(par_ind)\n",
    "    posterior.normalize()\n",
    "    # get the weights, mean and moments of the samples:\n",
    "    total_weights = np.sum(chain.weights)\n",
    "    mean = np.dot(chain.weights, chain.samples[:,par_ind])/total_weights\n",
    "    moments = [ np.dot(chain.weights, (chain.samples[:,par_ind])**k)/total_weights for k in range(100)]\n",
    "    # reconstruct the PDF from the moments:\n",
    "    sol1,lambdas1 = pymaxent.reconstruct(moments[:3],bnds=posterior.bounds())\n",
    "    sol2,lambdas2 = pymaxent.reconstruct(moments[:5],bnds=[np.amin(posterior.x), np.amax(posterior.x)])\n",
    "    sol3,lambdas3 = pymaxent.reconstruct(moments[:7],bnds=[np.amin(posterior.x), np.amax(posterior.x)])\n",
    "    # plot:\n",
    "    x = posterior.x\n",
    "    ax[ind].plot(x, sol1(x), label='order 2 (Gaussian)')\n",
    "    ax[ind].plot(x, sol2(x), label='order 4')\n",
    "    ax[ind].plot(x, sol3(x), label='order 6')\n",
    "    ax[ind].plot(x, posterior.P, ls='--', color='k')\n",
    "    ax[ind].set_xlabel('$'+chain._parAndNumber(par_ind)[1].label+'$');\n",
    "    ax[ind].set_ylabel('P (normalized)')\n",
    "    ax[ind].legend()"
   ]
  },
  {
   "cell_type": "markdown",
   "metadata": {},
   "source": [
    "The second order moment approximation of the pdf is its Gaussian approximation. As we go to higher orders the approximation of the pdf improves to the point that it becomes hardly distinguishable from the true one.\n",
    "\n",
    "To test the agreement of the posterior estimates we then follow the idea of the Gelman Rubin test (http://www.stat.columbia.edu/~gelman/research/published/itsim.pdf). This compares the variation of the mean across a pool of chains with the expected variation of the mean under the pdf that is being sampled:\n",
    "\\begin{align}\n",
    "R-1 = \\frac{{\\rm Var}_c ({\\rm Mean}_s(\\theta))}{{\\rm Mean}_c ({\\rm Var}_s(\\theta)) }\n",
    "\\end{align}\n",
    "where the subscript $c$ means that the statistics is computed across chains while the subscrit $s$ indicates that it is computed across samples.\n",
    "\n",
    "We then consider one parameter and compute $R-1$ as a function of the length of the chain:"
   ]
  },
  {
   "cell_type": "code",
   "execution_count": null,
   "metadata": {},
   "outputs": [],
   "source": [
    "# preparation:\n",
    "param_name = 'omegam'\n",
    "param_ind = chain.index[param_name]\n",
    "# get separate chains:\n",
    "chains = utilities.get_separate_mcsamples(chain)\n",
    "# get the maximum number of samples:\n",
    "max_elements = np.log10(np.amin([len(ch.samples) for ch in chains]))\n",
    "# get the number of samples that can be varied:\n",
    "num_el_fine = np.logspace(1, max_elements,1000).astype('int')\n",
    "num_el_fine = np.unique(num_el_fine)\n",
    "num_el_coarse = np.logspace(1, np.floor(max_elements),4).astype('int')\n",
    "num_el_coarse = np.unique(num_el_coarse)"
   ]
  },
  {
   "cell_type": "code",
   "execution_count": null,
   "metadata": {},
   "outputs": [],
   "source": [
    "# Plot with R-1 for one parameter (notice that we use a lower level function)\n",
    "samples = [ch.samples[:, param_ind] for ch in chains]\n",
    "weights = [ch.weights for ch in chains]\n",
    "results_GR = []\n",
    "for ind in range(len(num_el_fine)):\n",
    "    temp_samples = [ samps[0:num_el_fine[ind]] for samps in samples]\n",
    "    temp_weights = [ wh[0:num_el_fine[ind]] for wh in weights]\n",
    "    results_GR.append(chains_convergence.GR_test_from_samples(temp_samples, temp_weights)[0])\n",
    "results_GR = np.array(results_GR)\n",
    "# plot:\n",
    "plt.plot(num_el_fine, results_GR)\n",
    "plt.xlabel('Number of samples in each chain')\n",
    "plt.ylabel('R-1')\n",
    "plt.xscale('log')\n",
    "plt.yscale('log')"
   ]
  },
  {
   "cell_type": "markdown",
   "metadata": {},
   "source": [
    "As we can see $R-1$ decreases roughly as a power law in the number of samples and converges toward zero.\n",
    "The idea is that for small sample sizes fluctuations across chains are larger and our knowledge of the distribution is worse.\n",
    "\n",
    "We then generalize this test to higher moments, comparing their variation between chains in units of their variance within the pdf that we are sampling:\n",
    "\\begin{align}\n",
    "R_n(\\theta_0)-1 = \\frac{{\\rm Var}_c ({\\rm Mean}_s(\\theta-\\theta_0)^n)}{{\\rm Mean}_c ({\\rm Var}_s(\\theta-\\theta_0)^n) }\n",
    "\\end{align}\n",
    "we then plot the behavior of this estimator when applied to the variance and skewness."
   ]
  },
  {
   "cell_type": "code",
   "execution_count": null,
   "metadata": {},
   "outputs": [],
   "source": [
    "# application to variance and skewness\n",
    "results_Rn = []\n",
    "for ind in range(len(num_el_fine)):\n",
    "    temp_samples = [ samps[0:num_el_fine[ind]] for samps in samples]\n",
    "    temp_weights = [ wh[0:num_el_fine[ind]] for wh in weights]\n",
    "    results_Rn.append([chains_convergence.GRn_test_1D_samples(temp_samples, temp_weights, n) for n in range(2,4)])\n",
    "results_Rn = np.array(results_Rn)\n",
    "# plot:\n",
    "plt.plot(num_el_fine,results_GR, label='mean')\n",
    "plt.plot(num_el_fine,results_Rn[:,0], label='covariance')\n",
    "plt.plot(num_el_fine,results_Rn[:,1], label='skewness')\n",
    "plt.xlabel('Number of samples in each chain')\n",
    "plt.ylabel('R-1')\n",
    "plt.xscale('log')\n",
    "plt.yscale('log')\n",
    "plt.legend();"
   ]
  },
  {
   "cell_type": "markdown",
   "metadata": {},
   "source": [
    "As we can see at these orders all the three estimators show power law improvement.\n",
    "We can also apreciate that random fluctuations in one might not correspont to random fluctuations in another moment.\n",
    "As we can see around a chain length of 1000 points the mean estimator has a dip, probably due to a random fluctuation. That is not seen in the variance of skewness that show no improvement.\n",
    "\n",
    "Considering the worse of these result as an indication of overall quality would be, in this case, a good choice!\n",
    "\n",
    "We now turn to multiple dimensions. In this case moments become tensors and finding the worse known parameter mode is not trivial anymore and becomes harder as the order of the problem increases.\n",
    "\n",
    "The generalization of the Gelman-Rubin test to multiple dimensions is discussed in\n",
    "(http://www.stat.columbia.edu/~gelman/research/published/brooksgelman2.pdf).\n",
    "\n",
    "The idea is to compute the covariance of the mean across different chains and compare it to the mean chains variance.\n",
    "We define the covariance of the mean as $C_{ij} \\equiv {\\rm Cov}_c({\\rm Mean}_s(\\theta))_{ij}$ and the mean covariance as $M_{ij}\\equiv {\\rm Mean}_c[{\\rm Cov}_s(\\theta)_{ij}]$.\n",
    "These are not scalar quantities but matrices.\n",
    "Hence we bound variations by:\n",
    "\\begin{align}\n",
    "R-1 = {\\rm max_{\\theta}}\\frac{C_{ij} \\theta^i \\theta^j}{M_{ij}\\theta^i \\theta^j}\n",
    "\\end{align}\n",
    "for all parameters $\\theta$. \n",
    "Implicit in this is that we are conservative in quality control and we enforce the GR test on the linear combination of parameters that has biggest deviations.\n",
    "This equation can be solved analytically and becomes:\n",
    "\\begin{align}\n",
    "R-1 = {\\rm max} \\left( {\\rm eig} ( C M^{-1}) \\right)\n",
    "\\end{align}\n",
    "which is the usual form for this test."
   ]
  },
  {
   "cell_type": "code",
   "execution_count": null,
   "metadata": {},
   "outputs": [],
   "source": [
    "param_ind = [chain.index[name] for name in chain.getParamNames().getRunningNames()]\n",
    "samples = [ch.samples[:, param_ind] for ch in chains]\n",
    "weights = [ch.weights for ch in chains]\n",
    "results_full_GR = []\n",
    "for ind in range(len(num_el_fine)):\n",
    "    temp_samples = [ samps[0:num_el_fine[ind]] for samps in samples]\n",
    "    temp_weights = [ wh[0:num_el_fine[ind]] for wh in weights]\n",
    "    results_full_GR.append(chains_convergence.GR_test_from_samples(temp_samples, temp_weights)[0])\n",
    "results_full_GR = np.array(results_full_GR)\n",
    "plt.plot(num_el_fine, results_full_GR)\n",
    "plt.xlabel('Number of samples in each chain')\n",
    "plt.ylabel('R-1')\n",
    "plt.xscale('log')\n",
    "plt.yscale('log')"
   ]
  },
  {
   "cell_type": "markdown",
   "metadata": {},
   "source": [
    "As we see this result is an order of magnitude worse than the 1D case that we have considered above.\n",
    "Let's compare what we obtain in the full parameter space with what we would get by doing one parameter at the time (and looking at the worse one):"
   ]
  },
  {
   "cell_type": "code",
   "execution_count": null,
   "metadata": {},
   "outputs": [],
   "source": [
    "chains_convergence.GR_test(chain)[0]"
   ]
  },
  {
   "cell_type": "code",
   "execution_count": null,
   "metadata": {},
   "outputs": [],
   "source": [
    "np.amax([chains_convergence.GR_test(chain, param_names=[name])[0] for name in running_names])"
   ]
  },
  {
   "cell_type": "markdown",
   "metadata": {},
   "source": [
    "which is optimistic by a factor 2. \n",
    "This tells us that in the multidimensional case the GR test should never be done on the single parameters as that would miss all sampling errors that are correlated across parameters."
   ]
  },
  {
   "cell_type": "markdown",
   "metadata": {},
   "source": [
    "We can generalize the GR test to multidimensional moments in the following way.\n",
    "Build the $k$ order tensor of parameter differences around a point:\n",
    "\\begin{align}\n",
    "Q^{(k)} \\equiv Q_{i_1, \\dots, i_k} \\equiv (\\theta_{i_1} -\\tilde{\\theta}_{i_1}) \\cdots (\\theta_{i_k} -\\tilde{\\theta}_{i_k})\n",
    "\\end{align}\n",
    "build the first tensor encoding the covariance across chains of the $k$ order moment:\n",
    "\\begin{align}\n",
    "V_M = {\\rm Var}_c (E_s [Q^{(k)}])\n",
    "\\end{align}\n",
    "which is a $2k$ rank tensor of dimension $n$ and then build the second tensor encoding the mean in chain moment:\n",
    "\\begin{align}\n",
    "M_V = {\\rm Mean}_c (E_s[(Q^{(k)}-E_s[Q^{(k)}])\\otimes(Q^{(k)}-E_s[Q^{(k)}])])\n",
    "\\end{align}\n",
    "where we have suppressed all indexes to not crowd the notation (that should still be clear).\n",
    "\n",
    "Notice that, if we are performing this test at order $k$ then the rank of the tensors $V_M$ and $M_V$ is $2k$.\n",
    "\n",
    "We now seek to maximize this over parameters:\n",
    "\\begin{align}\n",
    "R_n -1 \\equiv {\\rm max}_\\theta \\frac{V_M \\theta^{2k}}{M_V \\theta^{2k}}\n",
    "\\end{align}\n",
    "where $\\theta^{2k}$ is the tensor product of $\\theta$ for $2k$ times.\n",
    "Differently from the $2D$ case this problem has no solution in terms of eigenvalues of tensors so far.\n",
    "\n",
    "Since there is no easy solution we brute force maximize this ratio. \n",
    "We first notice that the problem is scale invariant, i.e. $\\theta \\rightarrow \\alpha \\theta$ leaves $R_n -1$ invariant. \n",
    "Because of scale invariance we can maximize $R_n -1$ on the sphere and we do so by using specialized algorithms (https://www.pymanopt.org).\n",
    "The limitation for this approach is that it becomes too slow to do at high orders."
   ]
  },
  {
   "cell_type": "code",
   "execution_count": null,
   "metadata": {},
   "outputs": [],
   "source": [
    "results_full_GR2 = []\n",
    "num_el_fine2 = num_el_fine[::10]\n",
    "for ind in range(len(num_el_fine2)):\n",
    "    temp_samples = [ samps[0:num_el_fine2[ind]] for samps in samples]\n",
    "    temp_weights = [ wh[0:num_el_fine2[ind]] for wh in weights]\n",
    "    results_full_GR2.append(chains_convergence.GRn_test_from_samples(temp_samples, temp_weights, n=2)[0])\n",
    "results_full_GR2 = np.array(results_full_GR2)"
   ]
  },
  {
   "cell_type": "code",
   "execution_count": null,
   "metadata": {},
   "outputs": [],
   "source": [
    "plt.plot(num_el_fine, results_full_GR, label='mean')\n",
    "plt.plot(num_el_fine2, results_full_GR2, label='covariance')\n",
    "plt.xlabel('Number of samples in each chain')\n",
    "plt.ylabel('R-1')\n",
    "plt.xscale('log')\n",
    "plt.yscale('log')\n",
    "plt.legend();"
   ]
  },
  {
   "cell_type": "markdown",
   "metadata": {},
   "source": [
    "The time it took to produce the plot above should convince you of the scalability problems as a function of moment order. I am currently looking at better algorithm to solve this problem and would warmly welcome contributions.\n",
    "\n",
    "Finally let us compute the final test for the mean and the covariance for the full length chains:"
   ]
  },
  {
   "cell_type": "code",
   "execution_count": null,
   "metadata": {},
   "outputs": [],
   "source": [
    "GR_val, GR_par = chains_convergence.GR_test(chains)\n",
    "print(GR_val)"
   ]
  },
  {
   "cell_type": "code",
   "execution_count": null,
   "metadata": {},
   "outputs": [],
   "source": [
    "GR2_val, GR2_par = chains_convergence.GRn_test(chains, n=2)\n",
    "print(GR2_val)"
   ]
  },
  {
   "cell_type": "markdown",
   "metadata": {},
   "source": [
    "That tells us that the sampling error on the mean are at the 2.7% level while the covariance is at the 1% level.\n",
    "\n",
    "Overall we see that we can bound sampling errors on the mean and covariance in units of their respective covariances. Althought these do not provide a sufficient convergence cryterium they can be used to make quantitative statements on the quality of the first few moments of the distribution."
   ]
  }
 ],
 "metadata": {
  "kernelspec": {
   "display_name": "tensiometer",
   "language": "python",
   "name": "python3"
  },
  "language_info": {
   "codemirror_mode": {
    "name": "ipython",
    "version": 3
   },
   "file_extension": ".py",
   "mimetype": "text/x-python",
   "name": "python",
   "nbconvert_exporter": "python",
   "pygments_lexer": "ipython3",
   "version": "3.9.18"
  }
 },
 "nbformat": 4,
 "nbformat_minor": 4
}
